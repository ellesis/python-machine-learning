{
 "cells": [
  {
   "cell_type": "code",
   "execution_count": 1,
   "metadata": {},
   "outputs": [],
   "source": [
    "import requests\n",
    "from datetime import datetime\n",
    "import pandas as pd"
   ]
  },
  {
   "cell_type": "code",
   "execution_count": null,
   "metadata": {},
   "outputs": [],
   "source": [
    "def scrape_price_data(symbol, start_date):\n",
    "    end_date = int(datetime.now().timestamp())\n",
    "    interval = \"1d\"\n",
    "    url = 'https://query1.finance.yahoo.com/v7/finance/download/%s?period1=%s&period2=%s&interval=%s&events=history' %(symbol, start_date, end_date, interval)\n",
    "    \n",
    "    print(url)\n",
    "    \n",
    "    resp = requests.get(url)\n",
    "    return resp.text\n",
    "# scrape_price_data(\"AMZN\", 0)   "
   ]
  },
  {
   "cell_type": "code",
   "execution_count": 16,
   "metadata": {},
   "outputs": [],
   "source": [
    "def get_price_data(symbol, start_date):\n",
    "    data = scrape_price_data(symbol, start_date)\n",
    "    with open(\"price_%s.csv\" %(symbol), 'w') as f:\n",
    "        f.write(data)\n",
    "    "
   ]
  },
  {
   "cell_type": "code",
   "execution_count": 17,
   "metadata": {},
   "outputs": [
    {
     "name": "stdout",
     "output_type": "stream",
     "text": [
      "https://query1.finance.yahoo.com/v7/finance/download/FB?period1=0&period2=1585713695&interval=1d&events=history\n",
      "https://query1.finance.yahoo.com/v7/finance/download/AMZN?period1=0&period2=1585713696&interval=1d&events=history\n",
      "https://query1.finance.yahoo.com/v7/finance/download/AAPL?period1=0&period2=1585713696&interval=1d&events=history\n",
      "https://query1.finance.yahoo.com/v7/finance/download/NFLX?period1=0&period2=1585713696&interval=1d&events=history\n",
      "https://query1.finance.yahoo.com/v7/finance/download/GOOG?period1=0&period2=1585713697&interval=1d&events=history\n"
     ]
    }
   ],
   "source": [
    "symbols = ['FB', 'AMZN', 'AAPL', 'NFLX', 'GOOG']\n",
    "start_date = 0\n",
    "\n",
    "for symbol in symbols:\n",
    "    get_price_data(symbol, start_date)"
   ]
  },
  {
   "cell_type": "code",
   "execution_count": null,
   "metadata": {},
   "outputs": [],
   "source": []
  }
 ],
 "metadata": {
  "kernelspec": {
   "display_name": "Python 3",
   "language": "python",
   "name": "python3"
  },
  "language_info": {
   "codemirror_mode": {
    "name": "ipython",
    "version": 3
   },
   "file_extension": ".py",
   "mimetype": "text/x-python",
   "name": "python",
   "nbconvert_exporter": "python",
   "pygments_lexer": "ipython3",
   "version": "3.7.4"
  }
 },
 "nbformat": 4,
 "nbformat_minor": 4
}
