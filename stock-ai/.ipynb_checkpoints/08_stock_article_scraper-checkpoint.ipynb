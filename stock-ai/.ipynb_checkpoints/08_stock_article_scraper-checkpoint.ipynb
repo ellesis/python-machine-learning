{
 "cells": [
  {
   "cell_type": "code",
   "execution_count": 13,
   "metadata": {},
   "outputs": [
    {
     "name": "stderr",
     "output_type": "stream",
     "text": [
      "[nltk_data] Downloading package punkt to /Users/lisa/nltk_data...\n",
      "[nltk_data]   Package punkt is already up-to-date!\n"
     ]
    },
    {
     "data": {
      "text/plain": [
       "True"
      ]
     },
     "execution_count": 13,
     "metadata": {},
     "output_type": "execute_result"
    }
   ],
   "source": [
    "import requests\n",
    "from datetime import datetime\n",
    "import io\n",
    "import sys\n",
    "import re\n",
    "import json\n",
    "import traceback\n",
    "\n",
    "from bs4 import BeautifulSoup\n",
    "from newspaper import Article\n",
    "\n",
    "import nltk\n",
    "nltk.download('punkt')\n"
   ]
  },
  {
   "cell_type": "code",
   "execution_count": 14,
   "metadata": {},
   "outputs": [],
   "source": [
    "def save_article(symbol, link):\n",
    "    try:\n",
    "        print(\"<<< save_article({}, {}) >>>\".format(symbol, link))\n",
    "\n",
    "        article = Article(link)\n",
    "        article.download()\n",
    "        article.parse()\n",
    "        article.nlp()\n",
    "\n",
    "        # dictionary / List\n",
    "        item = {\n",
    "            \"symbol\": symbol,\n",
    "            \"link\": link\n",
    "        }\n",
    "\n",
    "        item[\"title\"] = article.title\n",
    "        item[\"keywords\"] = article.keywords\n",
    "        item[\"summary\"] = article.summary\n",
    "        item[\"authors\"] = article.authors\n",
    "        item[\"publish_date\"] = article.publish_date.isoformat() #2020-05-05T20:44:00-0800\n",
    "        item[\"top_image\"] = article.top_image\n",
    "        item[\"text\"] = article.text\n",
    "        item[\"html\"] = article.html\n",
    "\n",
    "        #print(item)\n",
    "\n",
    "        filename = \"articles/%s-%s.json\" % (symbol, item[\"publish_date\"])\n",
    "        with open(filename, 'w') as outfile:\n",
    "            json.dump(item, outfile)\n",
    "    except Exception as ex:\n",
    "        print(ex)\n",
    "        traceback.print_exc(file=sys.stdout)"
   ]
  },
  {
   "cell_type": "code",
   "execution_count": 15,
   "metadata": {},
   "outputs": [],
   "source": [
    "# save_article('FB', \"https://www.marketwatch.com/story/online-ad-market-is-recovering-from-coronavirus-shock-but-little-else-is-clear-2020-05-05?siteid=yhoof2\")"
   ]
  },
  {
   "cell_type": "code",
   "execution_count": 16,
   "metadata": {},
   "outputs": [],
   "source": [
    "def scrape_article_links(url):\n",
    "    try:\n",
    "        print(\"<<< scrape_article_links({}) >>>\".format(url))\n",
    "\n",
    "        headers = {\n",
    "            'User-Agent': 'PostmanRuntime/7.24.1'\n",
    "        }\n",
    "        biznews = requests.get(url, headers=headers).content\n",
    "        #print(biznews)\n",
    "        #tab-link-news\n",
    "\n",
    "        soup = BeautifulSoup(biznews)\n",
    "        links = soup.findAll('a', {'class': 'tab-link-news'})\n",
    "\n",
    "        return links\n",
    "    \n",
    "    except Exception as ex:\n",
    "        print(ex)\n",
    "        traceback.print_exc(file=sys.stdout)"
   ]
  },
  {
   "cell_type": "code",
   "execution_count": 17,
   "metadata": {},
   "outputs": [],
   "source": [
    "# scrape_article_links(\"https://finviz.com/quote.ashx?t=FB\")"
   ]
  },
  {
   "cell_type": "code",
   "execution_count": 18,
   "metadata": {},
   "outputs": [],
   "source": [
    "def collect_articles(symbol):\n",
    "    print(\"<<< collect_articles(\", symbol, \") >>>\")\n",
    "    url = \"https://finviz.com/quote.ashx?t=\" + symbol \n",
    "    links = scrape_article_links(url)\n",
    "    for link in links:\n",
    "        save_article(symbol, link.get(\"href\"))\n"
   ]
  },
  {
   "cell_type": "code",
   "execution_count": 19,
   "metadata": {},
   "outputs": [
    {
     "name": "stdout",
     "output_type": "stream",
     "text": [
      "<<< collect_articles( FB ) >>>\n",
      "<<< scrape_article_links(https://finviz.com/quote.ashx?t=FB) >>>\n",
      "<<< save_article(FB, https://www.investors.com/market-trend/stock-market-today/dow-jones-futures-coronavirus-stock-market-rally-vs-economic-reality-amd-servicenow-facebook/?src=A00220) >>>\n",
      "<<< save_article(FB, https://finance.yahoo.com/news/amazon-says-delivery-speed-returning-014814866.html) >>>\n",
      "<<< save_article(FB, https://finance.yahoo.com/news/facebook-apologizes-role-sri-lankan-210228812.html) >>>\n",
      "<<< save_article(FB, https://www.investors.com/how-to-invest/chart-reading-for-beginners-chart-patterns-cup-with-handle-double-bottom-flat-base/?src=A00220) >>>\n",
      "<<< save_article(FB, https://finance.yahoo.com/news/facebook-removes-2-5-million-160356295.html) >>>\n",
      "<<< save_article(FB, https://www.marketwatch.com/story/the-us-economy-may-be-in-for-a-square-root-shaped-recoveryand-you-wont-like-it-any-more-than-algebra-class-2020-05-08?siteid=yhoof2) >>>\n",
      "<<< save_article(FB, https://finance.yahoo.com/news/off-chain-capital-host-webinar-192041568.html) >>>\n",
      "<<< save_article(FB, https://finance.yahoo.com/news/facebook-reports-spike-takedowns-hate-181056864.html) >>>\n",
      "<<< save_article(FB, https://finance.yahoo.com/news/twitter-says-employees-home-virus-171700659.html) >>>\n",
      "<<< save_article(FB, https://finance.yahoo.com/news/facebook-violence-curbs-thwarted-groups-162417815.html) >>>\n",
      "<<< save_article(FB, https://www.investors.com/research/options/facebook-stock-options-how-to-trade-butterfly-spread-for-neutral-price-action/?src=A00220) >>>\n",
      "<<< save_article(FB, http://www.moodys.com/page/viewresearchdoc.aspx?docid=PR_424405&cid=HFGG75LYEO30) >>>\n",
      "<<< save_article(FB, https://finance.yahoo.com/video/facebook-nears-buy-point-143635687.html) >>>\n",
      "<<< save_article(FB, https://www.marketwatch.com/story/would-you-be-comfortable-eating-in-this-packed-restaurant-hundreds-of-customers-in-colorado-seem-totally-fine-with-it-2020-05-11?siteid=yhoof2) >>>\n",
      "<<< save_article(FB, https://finance.yahoo.com/news/tencent-absence-drag-lagging-asia-043225158.html) >>>\n",
      "<<< save_article(FB, https://www.investopedia.com/articles/personal-finance/122314/can-you-get-rich-creating-apps.asp?utm_campaign=quote-yahoo&utm_source=yahoo&utm_medium=referral) >>>\n",
      "<<< save_article(FB, https://www.marketwatch.com/story/twilio-ceo-weathered-a-great-recession-before-heres-his-advice-for-entrepreneurs-this-time-2020-05-11?siteid=yhoof2) >>>\n",
      "<<< save_article(FB, https://www.marketwatch.com/story/twitter-to-label-disputed-or-misleading-coronavirus-tweets-2020-05-11?siteid=yhoof2) >>>\n",
      "<<< save_article(FB, https://finance.yahoo.com/news/small-caps-opportunities-amid-shifts-due-to-pandemic-194931756.html) >>>\n",
      "<<< save_article(FB, https://www.marketwatch.com/story/biotechnology-experts-who-understand-both-science-and-investing-are-skeptical-of-the-stock-markets-strength-2020-05-09?siteid=yhoof2) >>>\n",
      "<<< save_article(FB, https://www.fool.com/investing/2020/05/11/visa-eyes-185-trillion-opportunity.aspx?source=eptyholnk0000202&utm_source=yahoo-host&utm_medium=feed&utm_campaign=article) >>>\n",
      "<<< save_article(FB, https://finance.yahoo.com/news/twitter-add-labels-misleading-covid-173618492.html) >>>\n",
      "<<< save_article(FB, https://finance.yahoo.com/news/virtual-graduation-2020-selena-gomez-160031939.html) >>>\n",
      "<<< save_article(FB, https://finance.yahoo.com/news/why-amazon-facebook-disney-saw-their-chiefs-retake-control-142735464.html) >>>\n",
      "<<< save_article(FB, https://finance.yahoo.com/news/dropbox-ceo-wants-to-organize-your-work-and-help-you-focus-134610951.html) >>>\n",
      "<<< save_article(FB, https://finance.yahoo.com/news/asia-richest-man-courts-saudis-063625411.html) >>>\n",
      "<<< save_article(FB, https://www.marketwatch.com/story/stock-market-investors-are-oblivious-to-the-potential-calamity-of-negative-interest-rates-2020-05-08?siteid=yhoof2) >>>\n",
      "<<< save_article(FB, https://www.investopedia.com/facebook-misses-estimates-but-stock-gaps-higher-anyway-4844442?utm_campaign=quote-yahoo&utm_source=yahoo&utm_medium=referral) >>>\n",
      "<<< save_article(FB, https://www.fool.com/investing/2020/05/09/3-tech-products-you-dont-realize-you-use-every-day.aspx?source=eptyholnk0000202&utm_source=yahoo-host&utm_medium=feed&utm_campaign=article) >>>\n",
      "<<< save_article(FB, https://www.investors.com/research/best-stocks-to-buy-now/?src=A00220) >>>\n",
      "<<< save_article(FB, https://www.fool.com/investing/2020/05/09/2-stocks-to-buy-and-hold-for-decades.aspx?source=eptyholnk0000202&utm_source=yahoo-host&utm_medium=feed&utm_campaign=article) >>>\n",
      "<<< save_article(FB, https://www.marketwatch.com/story/sun-valleys-summer-camp-for-billionaires-has-been-cancelled-due-to-coronavirus-2020-05-08?siteid=yhoof2) >>>\n",
      "<<< save_article(FB, https://www.marketwatch.com/story/coronavirus-update-us-death-toll-tops-75000-as-economy-sheds-record-setting-205-million-jobs-2020-05-08?siteid=yhoof2) >>>\n",
      "<<< save_article(FB, https://finance.yahoo.com/news/google-facebook-extend-home-policies-121545767.html) >>>\n",
      "<<< save_article(FB, https://finance.yahoo.com/news/don-t-waste-world-great-120032218.html) >>>\n",
      "<<< save_article(FB, https://www.investors.com/news/fang-stocks-facebook-alphabet-top-stocks-near-buy-range-post-coronavirus-market/?src=A00220) >>>\n",
      "<<< save_article(FB, https://finance.yahoo.com/news/lockdowns-lift-infection-surge-still-110232024.html) >>>\n",
      "<<< save_article(FB, https://finance.yahoo.com/news/10-stocks-billionaire-ken-fisher-034418537.html) >>>\n",
      "<<< save_article(FB, https://finance.yahoo.com/news/facebook-youtube-race-squash-viral-012628641.html) >>>\n",
      "<<< save_article(FB, https://www.barrons.com/articles/chinas-tech-stocks-are-great-long-term-plays-51588935603?siteid=yhoof2) >>>\n",
      "'NoneType' object has no attribute 'isoformat'\n"
     ]
    },
    {
     "ename": "AttributeError",
     "evalue": "module 'traceback' has no attribute 'print_exec'",
     "output_type": "error",
     "traceback": [
      "\u001b[0;31m---------------------------------------------------------------------------\u001b[0m",
      "\u001b[0;31mAttributeError\u001b[0m                            Traceback (most recent call last)",
      "\u001b[0;32m<ipython-input-14-530d50a97cf5>\u001b[0m in \u001b[0;36msave_article\u001b[0;34m(symbol, link)\u001b[0m\n\u001b[1;32m     19\u001b[0m         \u001b[0mitem\u001b[0m\u001b[0;34m[\u001b[0m\u001b[0;34m\"authors\"\u001b[0m\u001b[0;34m]\u001b[0m \u001b[0;34m=\u001b[0m \u001b[0marticle\u001b[0m\u001b[0;34m.\u001b[0m\u001b[0mauthors\u001b[0m\u001b[0;34m\u001b[0m\u001b[0;34m\u001b[0m\u001b[0m\n\u001b[0;32m---> 20\u001b[0;31m         \u001b[0mitem\u001b[0m\u001b[0;34m[\u001b[0m\u001b[0;34m\"publish_date\"\u001b[0m\u001b[0;34m]\u001b[0m \u001b[0;34m=\u001b[0m \u001b[0marticle\u001b[0m\u001b[0;34m.\u001b[0m\u001b[0mpublish_date\u001b[0m\u001b[0;34m.\u001b[0m\u001b[0misoformat\u001b[0m\u001b[0;34m(\u001b[0m\u001b[0;34m)\u001b[0m \u001b[0;31m#2020-05-05T20:44:00-0800\u001b[0m\u001b[0;34m\u001b[0m\u001b[0;34m\u001b[0m\u001b[0m\n\u001b[0m\u001b[1;32m     21\u001b[0m         \u001b[0mitem\u001b[0m\u001b[0;34m[\u001b[0m\u001b[0;34m\"top_image\"\u001b[0m\u001b[0;34m]\u001b[0m \u001b[0;34m=\u001b[0m \u001b[0marticle\u001b[0m\u001b[0;34m.\u001b[0m\u001b[0mtop_image\u001b[0m\u001b[0;34m\u001b[0m\u001b[0;34m\u001b[0m\u001b[0m\n",
      "\u001b[0;31mAttributeError\u001b[0m: 'NoneType' object has no attribute 'isoformat'",
      "\nDuring handling of the above exception, another exception occurred:\n",
      "\u001b[0;31mAttributeError\u001b[0m                            Traceback (most recent call last)",
      "\u001b[0;32m<ipython-input-19-b0eb832c2093>\u001b[0m in \u001b[0;36m<module>\u001b[0;34m\u001b[0m\n\u001b[1;32m      2\u001b[0m \u001b[0;34m\u001b[0m\u001b[0m\n\u001b[1;32m      3\u001b[0m \u001b[0;32mfor\u001b[0m \u001b[0msymbol\u001b[0m \u001b[0;32min\u001b[0m \u001b[0msymbols\u001b[0m\u001b[0;34m:\u001b[0m\u001b[0;34m\u001b[0m\u001b[0;34m\u001b[0m\u001b[0m\n\u001b[0;32m----> 4\u001b[0;31m     \u001b[0mcollect_articles\u001b[0m\u001b[0;34m(\u001b[0m\u001b[0msymbol\u001b[0m\u001b[0;34m)\u001b[0m\u001b[0;34m\u001b[0m\u001b[0;34m\u001b[0m\u001b[0m\n\u001b[0m",
      "\u001b[0;32m<ipython-input-18-614e16e52704>\u001b[0m in \u001b[0;36mcollect_articles\u001b[0;34m(symbol)\u001b[0m\n\u001b[1;32m      4\u001b[0m     \u001b[0mlinks\u001b[0m \u001b[0;34m=\u001b[0m \u001b[0mscrape_article_links\u001b[0m\u001b[0;34m(\u001b[0m\u001b[0murl\u001b[0m\u001b[0;34m)\u001b[0m\u001b[0;34m\u001b[0m\u001b[0;34m\u001b[0m\u001b[0m\n\u001b[1;32m      5\u001b[0m     \u001b[0;32mfor\u001b[0m \u001b[0mlink\u001b[0m \u001b[0;32min\u001b[0m \u001b[0mlinks\u001b[0m\u001b[0;34m:\u001b[0m\u001b[0;34m\u001b[0m\u001b[0;34m\u001b[0m\u001b[0m\n\u001b[0;32m----> 6\u001b[0;31m         \u001b[0msave_article\u001b[0m\u001b[0;34m(\u001b[0m\u001b[0msymbol\u001b[0m\u001b[0;34m,\u001b[0m \u001b[0mlink\u001b[0m\u001b[0;34m.\u001b[0m\u001b[0mget\u001b[0m\u001b[0;34m(\u001b[0m\u001b[0;34m\"href\"\u001b[0m\u001b[0;34m)\u001b[0m\u001b[0;34m)\u001b[0m\u001b[0;34m\u001b[0m\u001b[0;34m\u001b[0m\u001b[0m\n\u001b[0m",
      "\u001b[0;32m<ipython-input-14-530d50a97cf5>\u001b[0m in \u001b[0;36msave_article\u001b[0;34m(symbol, link)\u001b[0m\n\u001b[1;32m     30\u001b[0m     \u001b[0;32mexcept\u001b[0m \u001b[0mException\u001b[0m \u001b[0;32mas\u001b[0m \u001b[0mex\u001b[0m\u001b[0;34m:\u001b[0m\u001b[0;34m\u001b[0m\u001b[0;34m\u001b[0m\u001b[0m\n\u001b[1;32m     31\u001b[0m         \u001b[0mprint\u001b[0m\u001b[0;34m(\u001b[0m\u001b[0mex\u001b[0m\u001b[0;34m)\u001b[0m\u001b[0;34m\u001b[0m\u001b[0;34m\u001b[0m\u001b[0m\n\u001b[0;32m---> 32\u001b[0;31m         \u001b[0mtraceback\u001b[0m\u001b[0;34m.\u001b[0m\u001b[0mprint_exec\u001b[0m\u001b[0;34m(\u001b[0m\u001b[0mfile\u001b[0m\u001b[0;34m=\u001b[0m\u001b[0msys\u001b[0m\u001b[0;34m.\u001b[0m\u001b[0mstdout\u001b[0m\u001b[0;34m)\u001b[0m\u001b[0;34m\u001b[0m\u001b[0;34m\u001b[0m\u001b[0m\n\u001b[0m",
      "\u001b[0;31mAttributeError\u001b[0m: module 'traceback' has no attribute 'print_exec'"
     ]
    }
   ],
   "source": [
    "symbols = [\"FB\", \"AMZN\", \"AAPL\", \"NFLX\", \"GOOG\"]\n",
    "\n",
    "for symbol in symbols: \n",
    "    collect_articles(symbol)"
   ]
  },
  {
   "cell_type": "code",
   "execution_count": null,
   "metadata": {},
   "outputs": [],
   "source": []
  }
 ],
 "metadata": {
  "kernelspec": {
   "display_name": "Python 3",
   "language": "python",
   "name": "python3"
  },
  "language_info": {
   "codemirror_mode": {
    "name": "ipython",
    "version": 3
   },
   "file_extension": ".py",
   "mimetype": "text/x-python",
   "name": "python",
   "nbconvert_exporter": "python",
   "pygments_lexer": "ipython3",
   "version": "3.7.4"
  }
 },
 "nbformat": 4,
 "nbformat_minor": 4
}
