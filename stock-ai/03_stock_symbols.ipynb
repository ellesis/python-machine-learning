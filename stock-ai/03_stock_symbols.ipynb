{
 "cells": [
  {
   "cell_type": "code",
   "execution_count": 1,
   "metadata": {},
   "outputs": [],
   "source": [
    "import requests\n",
    "import bs4 as bs\n",
    "import pandas as pd"
   ]
  },
  {
   "cell_type": "code",
   "execution_count": 20,
   "metadata": {},
   "outputs": [
    {
     "name": "stdout",
     "output_type": "stream",
     "text": [
      "['MMM', 'ABT', 'ABBV', 'ABMD', 'ACN', 'ATVI', 'ADBE', 'AMD', 'AAP', 'AES', 'AFL', 'A', 'APD', 'AKAM', 'ALK', 'ALB', 'ARE', 'ALXN', 'ALGN', 'ALLE', 'AGN', 'ADS', 'LNT', 'ALL', 'GOOGL', 'GOOG', 'MO', 'AMZN', 'AMCR', 'AEE', 'AAL', 'AEP', 'AXP', 'AIG', 'T', 'AMT', 'AWK', 'AMP', 'ABC', 'AME', 'AMGN', 'APH', 'ADI', 'ANSS', 'ANTM', 'AON', 'AOS', 'APA', 'AIV', 'AAPL', 'AMAT', 'APTV', 'ADM', 'ARNC', 'ANET', 'AJG', 'AIZ', 'ATO', 'ADSK', 'ADP', 'AZO', 'AVB', 'AVY', 'BKR', 'BLL', 'BAC', 'BK', 'BAX', 'BDX', 'BRK.B', 'BBY', 'BIIB', 'BLK', 'BA', 'BKNG', 'BWA', 'BXP', 'BSX', 'BMY', 'AVGO', 'BR', 'BF.B', 'CHRW', 'COG', 'CDNS', 'CPB', 'COF', 'CPRI', 'CAH', 'KMX', 'CCL', 'CAT', 'CBOE', 'CBRE', 'CDW', 'CE', 'CNC', 'CNP', 'CTL', 'CERN', 'CF', 'SCHW', 'CHTR', 'CVX', 'CMG', 'CB', 'CHD', 'CI', 'CINF', 'CTAS', 'CSCO', 'C', 'CFG', 'CTXS', 'CLX', 'CME', 'CMS', 'KO', 'CTSH', 'CL', 'CMCSA', 'CMA', 'CAG', 'CXO', 'COP', 'ED', 'STZ', 'COO', 'CPRT', 'GLW', 'CTVA', 'COST', 'COTY', 'CCI', 'CSX', 'CMI', 'CVS', 'DHI', 'DHR', 'DRI', 'DVA', 'DE', 'DAL', 'XRAY', 'DVN', 'FANG', 'DLR', 'DFS', 'DISCA', 'DISCK', 'DISH', 'DG', 'DLTR', 'D', 'DOV', 'DOW', 'DTE', 'DUK', 'DRE', 'DD', 'DXC', 'ETFC', 'EMN', 'ETN', 'EBAY', 'ECL', 'EIX', 'EW', 'EA', 'EMR', 'ETR', 'EOG', 'EFX', 'EQIX', 'EQR', 'ESS', 'EL', 'EVRG', 'ES', 'RE', 'EXC', 'EXPE', 'EXPD', 'EXR', 'XOM', 'FFIV', 'FB', 'FAST', 'FRT', 'FDX', 'FIS', 'FITB', 'FE', 'FRC', 'FISV', 'FLT', 'FLIR', 'FLS', 'FMC', 'F', 'FTNT', 'FTV', 'FBHS', 'FOXA', 'FOX', 'BEN', 'FCX', 'GPS', 'GRMN', 'IT', 'GD', 'GE', 'GIS', 'GM', 'GPC', 'GILD', 'GL', 'GPN', 'GS', 'GWW', 'HRB', 'HAL', 'HBI', 'HOG', 'HIG', 'HAS', 'HCA', 'PEAK', 'HP', 'HSIC', 'HSY', 'HES', 'HPE', 'HLT', 'HFC', 'HOLX', 'HD', 'HON', 'HRL', 'HST', 'HPQ', 'HUM', 'HBAN', 'HII', 'IEX', 'IDXX', 'INFO', 'ITW', 'ILMN', 'INCY', 'IR', 'INTC', 'ICE', 'IBM', 'IP', 'IPG', 'IFF', 'INTU', 'ISRG', 'IVZ', 'IPGP', 'IQV', 'IRM', 'JKHY', 'J', 'JBHT', 'SJM', 'JNJ', 'JCI', 'JPM', 'JNPR', 'KSU', 'K', 'KEY', 'KEYS', 'KMB', 'KIM', 'KMI', 'KLAC', 'KSS', 'KHC', 'KR', 'LB', 'LHX', 'LH', 'LRCX', 'LW', 'LVS', 'LEG', 'LDOS', 'LEN', 'LLY', 'LNC', 'LIN', 'LYV', 'LKQ', 'LMT', 'L', 'LOW', 'LYB', 'MTB', 'M', 'MRO', 'MPC', 'MKTX', 'MAR', 'MMC', 'MLM', 'MAS', 'MA', 'MKC', 'MXIM', 'MCD', 'MCK', 'MDT', 'MRK', 'MET', 'MTD', 'MGM', 'MCHP', 'MU', 'MSFT', 'MAA', 'MHK', 'TAP', 'MDLZ', 'MNST', 'MCO', 'MS', 'MOS', 'MSI', 'MSCI', 'MYL', 'NDAQ', 'NOV', 'NTAP', 'NFLX', 'NWL', 'NEM', 'NWSA', 'NWS', 'NEE', 'NLSN', 'NKE', 'NI', 'NBL', 'JWN', 'NSC', 'NTRS', 'NOC', 'NLOK', 'NCLH', 'NRG', 'NUE', 'NVDA', 'NVR', 'ORLY', 'OXY', 'ODFL', 'OMC', 'OKE', 'ORCL', 'PCAR', 'PKG', 'PH', 'PAYX', 'PAYC', 'PYPL', 'PNR', 'PBCT', 'PEP', 'PKI', 'PRGO', 'PFE', 'PM', 'PSX', 'PNW', 'PXD', 'PNC', 'PPG', 'PPL', 'PFG', 'PG', 'PGR', 'PLD', 'PRU', 'PEG', 'PSA', 'PHM', 'PVH', 'QRVO', 'PWR', 'QCOM', 'DGX', 'RL', 'RJF', 'RTN', 'O', 'REG', 'REGN', 'RF', 'RSG', 'RMD', 'RHI', 'ROK', 'ROL', 'ROP', 'ROST', 'RCL', 'SPGI', 'CRM', 'SBAC', 'SLB', 'STX', 'SEE', 'SRE', 'NOW', 'SHW', 'SPG', 'SWKS', 'SLG', 'SNA', 'SO', 'LUV', 'SWK', 'SBUX', 'STT', 'STE', 'SYK', 'SIVB', 'SYF', 'SNPS', 'SYY', 'TMUS', 'TROW', 'TTWO', 'TPR', 'TGT', 'TEL', 'FTI', 'TFX', 'TXN', 'TXT', 'TMO', 'TIF', 'TJX', 'TSCO', 'TT', 'TDG', 'TRV', 'TFC', 'TWTR', 'TSN', 'UDR', 'ULTA', 'USB', 'UAA', 'UA', 'UNP', 'UAL', 'UNH', 'UPS', 'URI', 'UTX', 'UHS', 'UNM', 'VFC', 'VLO', 'VAR', 'VTR', 'VRSN', 'VRSK', 'VZ', 'VRTX', 'VIAC', 'V', 'VNO', 'VMC', 'WRB', 'WAB', 'WMT', 'WBA', 'DIS', 'WM', 'WAT', 'WEC', 'WFC', 'WELL', 'WDC', 'WU', 'WRK', 'WY', 'WHR', 'WMB', 'WLTW', 'WYNN', 'XEL', 'XRX', 'XLNX', 'XYL', 'YUM', 'ZBRA', 'ZBH', 'ZION', 'ZTS']\n",
      "['3M Company', 'Abbott Laboratories', 'AbbVie Inc.', 'ABIOMED Inc', 'Accenture plc', 'Activision Blizzard', 'Adobe Inc.', 'Advanced Micro Devices Inc', 'Advance Auto Parts', 'AES Corp', 'AFLAC Inc', 'Agilent Technologies Inc', 'Air Products & Chemicals Inc', 'Akamai Technologies Inc', 'Alaska Air Group Inc', 'Albemarle Corp', 'Alexandria Real Estate Equities', 'Alexion Pharmaceuticals', 'Align Technology', 'Allegion', 'Allergan, plc', 'Alliance Data Systems', 'Alliant Energy Corp', 'Allstate Corp', 'Alphabet Inc Class A', 'Alphabet Inc Class C', 'Altria Group Inc', 'Amazon.com Inc.', 'Amcor plc', 'Ameren Corp', 'American Airlines Group', 'American Electric Power', 'American Express Co', 'American International Group', 'AT&T', 'American Tower Corp.', 'American Water Works Company Inc', 'Ameriprise Financial', 'AmerisourceBergen Corp', 'AMETEK Inc.', 'Amgen Inc.', 'Amphenol Corp', 'Analog Devices, Inc.', 'ANSYS', 'Anthem', 'Aon plc', 'A.O. Smith Corp', 'Apache Corporation', 'Apartment Investment & Management', 'Apple Inc.', 'Applied Materials Inc.', 'Aptiv PLC', 'Archer-Daniels-Midland Co', 'Arconic Inc.', 'Arista Networks', 'Arthur J. Gallagher & Co.', 'Assurant', 'Atmos Energy Corp', 'Autodesk Inc.', 'Automatic Data Processing', 'AutoZone Inc', 'AvalonBay Communities, Inc.', 'Avery Dennison Corp', 'Baker Hughes Co', 'Ball Corp', 'Bank of America Corp', 'The Bank of New York Mellon Corp.', 'Baxter International Inc.', 'Becton Dickinson', 'Berkshire Hathaway', 'Best Buy Co. Inc.', 'Biogen Inc.', 'BlackRock', 'Boeing Company', 'Booking Holdings Inc', 'BorgWarner', 'Boston Properties', 'Boston Scientific', 'Bristol-Myers Squibb', 'Broadcom Inc.', 'Broadridge Financial Solutions', 'Brown-Forman Corp.', 'C. H. Robinson Worldwide', 'Cabot Oil & Gas', 'Cadence Design Systems', 'Campbell Soup', 'Capital One Financial', 'Capri Holdings', 'Cardinal Health Inc.', 'Carmax Inc', 'Carnival Corp.', 'Caterpillar Inc.', 'Cboe Global Markets', 'CBRE Group', 'CDW', 'Celanese', 'Centene Corporation', 'CenterPoint Energy', 'CenturyLink Inc', 'Cerner', 'CF Industries Holdings Inc', 'Charles Schwab Corporation', 'Charter Communications', 'Chevron Corp.', 'Chipotle Mexican Grill', 'Chubb Limited', 'Church & Dwight', 'CIGNA Corp.', 'Cincinnati Financial', 'Cintas Corporation', 'Cisco Systems', 'Citigroup Inc.', 'Citizens Financial Group', 'Citrix Systems', 'The Clorox Company', 'CME Group Inc.', 'CMS Energy', 'Coca-Cola Company', 'Cognizant Technology Solutions', 'Colgate-Palmolive', 'Comcast Corp.', 'Comerica Inc.', 'Conagra Brands', 'Concho Resources', 'ConocoPhillips', 'Consolidated Edison', 'Constellation Brands', 'The Cooper Companies', 'Copart Inc', 'Corning Inc.', 'Corteva', 'Costco Wholesale Corp.', 'Coty, Inc', 'Crown Castle International Corp.', 'CSX Corp.', 'Cummins Inc.', 'CVS Health', 'D. R. Horton', 'Danaher Corp.', 'Darden Restaurants', 'DaVita Inc.', 'Deere & Co.', 'Delta Air Lines Inc.', 'Dentsply Sirona', 'Devon Energy', 'Diamondback Energy', 'Digital Realty Trust Inc', 'Discover Financial Services', 'Discovery Inc. Class A', 'Discovery Inc. Class C', 'Dish Network', 'Dollar General', 'Dollar Tree', 'Dominion Energy', 'Dover Corp.', 'Dow Inc.', 'DTE Energy Co.', 'Duke Energy', 'Duke Realty Corp', 'DuPont de Nemours Inc', 'DXC Technology', 'E*Trade', 'Eastman Chemical', 'Eaton Corporation', 'eBay Inc.', 'Ecolab Inc.', \"Edison Int'l\", 'Edwards Lifesciences', 'Electronic Arts', 'Emerson Electric Company', 'Entergy Corp.', 'EOG Resources', 'Equifax Inc.', 'Equinix', 'Equity Residential', 'Essex Property Trust, Inc.', 'Estée Lauder Companies', 'Evergy', 'Eversource Energy', 'Everest Re Group Ltd.', 'Exelon Corp.', 'Expedia Group', 'Expeditors', 'Extra Space Storage', 'Exxon Mobil Corp.', 'F5 Networks', 'Facebook, Inc.', 'Fastenal Co', 'Federal Realty Investment Trust', 'FedEx Corporation', 'Fidelity National Information Services', 'Fifth Third Bancorp', 'FirstEnergy Corp', 'First Republic Bank', 'Fiserv Inc', 'FleetCor Technologies Inc', 'FLIR Systems', 'Flowserve Corporation', 'FMC Corporation', 'Ford Motor Company', 'Fortinet', 'Fortive Corp', 'Fortune Brands Home & Security', 'Fox Corporation Class A', 'Fox Corporation Class B', 'Franklin Resources', 'Freeport-McMoRan Inc.', 'Gap Inc.', 'Garmin Ltd.', 'Gartner Inc', 'General Dynamics', 'General Electric', 'General Mills', 'General Motors', 'Genuine Parts', 'Gilead Sciences', 'Globe Life Inc.', 'Global Payments Inc.', 'Goldman Sachs Group', 'Grainger (W.W.) Inc.', 'H&R Block', 'Halliburton Co.', 'Hanesbrands Inc', 'Harley-Davidson', 'Hartford Financial Svc.Gp.', 'Hasbro Inc.', 'HCA Healthcare', 'Healthpeak Properties', 'Helmerich & Payne', 'Henry Schein', 'The Hershey Company', 'Hess Corporation', 'Hewlett Packard Enterprise', 'Hilton Worldwide Holdings Inc', 'HollyFrontier Corp', 'Hologic', 'Home Depot', \"Honeywell Int'l Inc.\", 'Hormel Foods Corp.', 'Host Hotels & Resorts', 'HP Inc.', 'Humana Inc.', 'Huntington Bancshares', 'Huntington Ingalls Industries', 'IDEX Corporation', 'IDEXX Laboratories', 'IHS Markit Ltd.', 'Illinois Tool Works', 'Illumina Inc', 'Incyte', 'Ingersoll Rand', 'Intel Corp.', 'Intercontinental Exchange', 'International Business Machines', 'International Paper', 'Interpublic Group', 'Intl Flavors & Fragrances', 'Intuit Inc.', 'Intuitive Surgical Inc.', 'Invesco Ltd.', 'IPG Photonics Corp.', 'IQVIA Holdings Inc.', 'Iron Mountain Incorporated', 'Jack Henry & Associates', 'Jacobs Engineering Group', 'J. B. Hunt Transport Services', 'JM Smucker', 'Johnson & Johnson', 'Johnson Controls International', 'JPMorgan Chase & Co.', 'Juniper Networks', 'Kansas City Southern', 'Kellogg Co.', 'KeyCorp', 'Keysight Technologies', 'Kimberly-Clark', 'Kimco Realty', 'Kinder Morgan', 'KLA Corporation', \"Kohl's Corp.\", 'Kraft Heinz Co', 'Kroger Co.', 'L Brands Inc.', 'L3Harris Technologies', 'Laboratory Corp. of America Holding', 'Lam Research', 'Lamb Weston Holdings Inc', 'Las Vegas Sands', 'Leggett & Platt', 'Leidos Holdings', 'Lennar Corp.', 'Lilly (Eli) & Co.', 'Lincoln National', 'Linde plc', 'Live Nation Entertainment', 'LKQ Corporation', 'Lockheed Martin Corp.', 'Loews Corp.', \"Lowe's Cos.\", 'LyondellBasell', 'M&T Bank Corp.', \"Macy's Inc.\", 'Marathon Oil Corp.', 'Marathon Petroleum', 'MarketAxess', \"Marriott Int'l.\", 'Marsh & McLennan', 'Martin Marietta Materials', 'Masco Corp.', 'Mastercard Inc.', 'McCormick & Co.', 'Maxim Integrated Products Inc', \"McDonald's Corp.\", 'McKesson Corp.', 'Medtronic plc', 'Merck & Co.', 'MetLife Inc.', 'Mettler Toledo', 'MGM Resorts International', 'Microchip Technology', 'Micron Technology', 'Microsoft Corp.', 'Mid-America Apartments', 'Mohawk Industries', 'Molson Coors Brewing Company', 'Mondelez International', 'Monster Beverage', \"Moody's Corp\", 'Morgan Stanley', 'The Mosaic Company', 'Motorola Solutions Inc.', 'MSCI Inc', 'Mylan N.V.', 'Nasdaq, Inc.', 'National Oilwell Varco Inc.', 'NetApp', 'Netflix Inc.', 'Newell Brands', 'Newmont Corporation', 'News Corp. Class A', 'News Corp. Class B', 'NextEra Energy', 'Nielsen Holdings', 'Nike', 'NiSource Inc.', 'Noble Energy Inc', 'Nordstrom', 'Norfolk Southern Corp.', 'Northern Trust Corp.', 'Northrop Grumman', 'NortonLifeLock', 'Norwegian Cruise Line Holdings', 'NRG Energy', 'Nucor Corp.', 'Nvidia Corporation', 'NVR Inc', \"O'Reilly Automotive\", 'Occidental Petroleum', 'Old Dominion Freight Line', 'Omnicom Group', 'ONEOK', 'Oracle Corp.', 'PACCAR Inc.', 'Packaging Corporation of America', 'Parker-Hannifin', 'Paychex Inc.', 'Paycom', 'PayPal', 'Pentair plc', \"People's United Financial\", 'PepsiCo Inc.', 'PerkinElmer', 'Perrigo', 'Pfizer Inc.', 'Philip Morris International', 'Phillips 66', 'Pinnacle West Capital', 'Pioneer Natural Resources', 'PNC Financial Services', 'PPG Industries', 'PPL Corp.', 'Principal Financial Group', 'Procter & Gamble', 'Progressive Corp.', 'Prologis', 'Prudential Financial', 'Public Serv. Enterprise Inc.', 'Public Storage', 'PulteGroup', 'PVH Corp.', 'Qorvo', 'Quanta Services Inc.', 'QUALCOMM Inc.', 'Quest Diagnostics', 'Ralph Lauren Corporation', 'Raymond James Financial Inc.', 'Raytheon Co.', 'Realty Income Corporation', 'Regency Centers Corporation', 'Regeneron Pharmaceuticals', 'Regions Financial Corp.', 'Republic Services Inc', 'ResMed', 'Robert Half International', 'Rockwell Automation Inc.', 'Rollins Inc.', 'Roper Technologies', 'Ross Stores', 'Royal Caribbean Cruises Ltd', 'S&P Global, Inc.', 'Salesforce.com', 'SBA Communications', 'Schlumberger Ltd.', 'Seagate Technology', 'Sealed Air', 'Sempra Energy', 'ServiceNow', 'Sherwin-Williams', 'Simon Property Group Inc', 'Skyworks Solutions', 'SL Green Realty', 'Snap-on', 'Southern Co.', 'Southwest Airlines', 'Stanley Black & Decker', 'Starbucks Corp.', 'State Street Corp.', 'STERIS plc', 'Stryker Corp.', 'SVB Financial', 'Synchrony Financial', 'Synopsys Inc.', 'Sysco Corp.', 'T-Mobile US', 'T. Rowe Price Group', 'Take-Two Interactive', 'Tapestry, Inc.', 'Target Corp.', 'TE Connectivity Ltd.', 'TechnipFMC', 'Teleflex', 'Texas Instruments', 'Textron Inc.', 'Thermo Fisher Scientific', 'Tiffany & Co.', 'TJX Companies Inc.', 'Tractor Supply Company', 'Trane Technologies plc', 'TransDigm Group', 'The Travelers Companies Inc.', 'Truist Financial', 'Twitter, Inc.', 'Tyson Foods', 'UDR, Inc.', 'Ulta Beauty', 'U.S. Bancorp', 'Under Armour Class A', 'Under Armour Class C', 'Union Pacific Corp', 'United Airlines Holdings', 'United Health Group Inc.', 'United Parcel Service', 'United Rentals, Inc.', 'United Technologies', 'Universal Health Services, Inc.', 'Unum Group', 'V.F. Corp.', 'Valero Energy', 'Varian Medical Systems', 'Ventas Inc', 'Verisign Inc.', 'Verisk Analytics', 'Verizon Communications', 'Vertex Pharmaceuticals Inc', 'ViacomCBS', 'Visa Inc.', 'Vornado Realty Trust', 'Vulcan Materials', 'W. R. Berkley Corporation', 'Wabtec Corporation', 'Walmart', 'Walgreens Boots Alliance', 'The Walt Disney Company', 'Waste Management Inc.', 'Waters Corporation', 'Wec Energy Group Inc', 'Wells Fargo', 'Welltower Inc.', 'Western Digital', 'Western Union Co', 'WestRock', 'Weyerhaeuser', 'Whirlpool Corp.', 'Williams Cos.', 'Willis Towers Watson', 'Wynn Resorts Ltd', 'Xcel Energy Inc', 'Xerox', 'Xilinx', 'Xylem Inc.', 'Yum! Brands Inc', 'Zebra Technologies', 'Zimmer Biomet Holdings', 'Zions Bancorp', 'Zoetis']\n",
      "['Industrials', 'Health Care', 'Health Care', 'Health Care', 'Information Technology', 'Communication Services', 'Information Technology', 'Information Technology', 'Consumer Discretionary', 'Utilities', 'Financials', 'Health Care', 'Materials', 'Information Technology', 'Industrials', 'Materials', 'Real Estate', 'Health Care', 'Health Care', 'Industrials', 'Health Care', 'Information Technology', 'Utilities', 'Financials', 'Communication Services', 'Communication Services', 'Consumer Staples', 'Consumer Discretionary', 'Materials', 'Utilities', 'Industrials', 'Utilities', 'Financials', 'Financials', 'Communication Services', 'Real Estate', 'Utilities', 'Financials', 'Health Care', 'Industrials', 'Health Care', 'Information Technology', 'Information Technology', 'Information Technology', 'Health Care', 'Financials', 'Industrials', 'Energy', 'Real Estate', 'Information Technology', 'Information Technology', 'Consumer Discretionary', 'Consumer Staples', 'Industrials', 'Information Technology', 'Financials', 'Financials', 'Utilities', 'Information Technology', 'Information Technology', 'Consumer Discretionary', 'Real Estate', 'Materials', 'Energy', 'Materials', 'Financials', 'Financials', 'Health Care', 'Health Care', 'Financials', 'Consumer Discretionary', 'Health Care', 'Financials', 'Industrials', 'Consumer Discretionary', 'Consumer Discretionary', 'Real Estate', 'Health Care', 'Health Care', 'Information Technology', 'Information Technology', 'Consumer Staples', 'Industrials', 'Energy', 'Information Technology', 'Consumer Staples', 'Financials', 'Consumer Discretionary', 'Health Care', 'Consumer Discretionary', 'Consumer Discretionary', 'Industrials', 'Financials', 'Real Estate', 'Information Technology', 'Materials', 'Health Care', 'Utilities', 'Communication Services', 'Health Care', 'Materials', 'Financials', 'Communication Services', 'Energy', 'Consumer Discretionary', 'Financials', 'Consumer Staples', 'Health Care', 'Financials', 'Industrials', 'Information Technology', 'Financials', 'Financials', 'Information Technology', 'Consumer Staples', 'Financials', 'Utilities', 'Consumer Staples', 'Information Technology', 'Consumer Staples', 'Communication Services', 'Financials', 'Consumer Staples', 'Energy', 'Energy', 'Utilities', 'Consumer Staples', 'Health Care', 'Industrials', 'Information Technology', 'Materials', 'Consumer Staples', 'Consumer Staples', 'Real Estate', 'Industrials', 'Industrials', 'Health Care', 'Consumer Discretionary', 'Health Care', 'Consumer Discretionary', 'Health Care', 'Industrials', 'Industrials', 'Health Care', 'Energy', 'Energy', 'Real Estate', 'Financials', 'Communication Services', 'Communication Services', 'Communication Services', 'Consumer Discretionary', 'Consumer Discretionary', 'Utilities', 'Industrials', 'Materials', 'Utilities', 'Utilities', 'Real Estate', 'Materials', 'Information Technology', 'Financials', 'Materials', 'Industrials', 'Consumer Discretionary', 'Materials', 'Utilities', 'Health Care', 'Communication Services', 'Industrials', 'Utilities', 'Energy', 'Industrials', 'Real Estate', 'Real Estate', 'Real Estate', 'Consumer Staples', 'Utilities', 'Utilities', 'Financials', 'Utilities', 'Consumer Discretionary', 'Industrials', 'Real Estate', 'Energy', 'Information Technology', 'Communication Services', 'Industrials', 'Real Estate', 'Industrials', 'Information Technology', 'Financials', 'Utilities', 'Financials', 'Information Technology', 'Information Technology', 'Information Technology', 'Industrials', 'Materials', 'Consumer Discretionary', 'Information Technology', 'Industrials', 'Industrials', 'Communication Services', 'Communication Services', 'Financials', 'Materials', 'Consumer Discretionary', 'Consumer Discretionary', 'Information Technology', 'Industrials', 'Industrials', 'Consumer Staples', 'Consumer Discretionary', 'Consumer Discretionary', 'Health Care', 'Financials', 'Information Technology', 'Financials', 'Industrials', 'Consumer Discretionary', 'Energy', 'Consumer Discretionary', 'Consumer Discretionary', 'Financials', 'Consumer Discretionary', 'Health Care', 'Real Estate', 'Energy', 'Health Care', 'Consumer Staples', 'Energy', 'Information Technology', 'Consumer Discretionary', 'Energy', 'Health Care', 'Consumer Discretionary', 'Industrials', 'Consumer Staples', 'Real Estate', 'Information Technology', 'Health Care', 'Financials', 'Industrials', 'Industrials', 'Health Care', 'Industrials', 'Industrials', 'Health Care', 'Health Care', 'Industrials', 'Information Technology', 'Financials', 'Information Technology', 'Materials', 'Communication Services', 'Materials', 'Information Technology', 'Health Care', 'Financials', 'Information Technology', 'Health Care', 'Real Estate', 'Information Technology', 'Industrials', 'Industrials', 'Consumer Staples', 'Health Care', 'Industrials', 'Financials', 'Information Technology', 'Industrials', 'Consumer Staples', 'Financials', 'Information Technology', 'Consumer Staples', 'Real Estate', 'Energy', 'Information Technology', 'Consumer Discretionary', 'Consumer Staples', 'Consumer Staples', 'Consumer Discretionary', 'Industrials', 'Health Care', 'Information Technology', 'Consumer Staples', 'Consumer Discretionary', 'Consumer Discretionary', 'Information Technology', 'Consumer Discretionary', 'Health Care', 'Financials', 'Materials', 'Communication Services', 'Consumer Discretionary', 'Industrials', 'Financials', 'Consumer Discretionary', 'Materials', 'Financials', 'Consumer Discretionary', 'Energy', 'Energy', 'Financials', 'Consumer Discretionary', 'Financials', 'Materials', 'Industrials', 'Information Technology', 'Consumer Staples', 'Information Technology', 'Consumer Discretionary', 'Health Care', 'Health Care', 'Health Care', 'Financials', 'Health Care', 'Consumer Discretionary', 'Information Technology', 'Information Technology', 'Information Technology', 'Real Estate', 'Consumer Discretionary', 'Consumer Staples', 'Consumer Staples', 'Consumer Staples', 'Financials', 'Financials', 'Materials', 'Information Technology', 'Financials', 'Health Care', 'Financials', 'Energy', 'Information Technology', 'Communication Services', 'Consumer Discretionary', 'Materials', 'Communication Services', 'Communication Services', 'Utilities', 'Industrials', 'Consumer Discretionary', 'Utilities', 'Energy', 'Consumer Discretionary', 'Industrials', 'Financials', 'Industrials', 'Information Technology', 'Consumer Discretionary', 'Utilities', 'Materials', 'Information Technology', 'Consumer Discretionary', 'Consumer Discretionary', 'Energy', 'Industrials', 'Communication Services', 'Energy', 'Information Technology', 'Industrials', 'Materials', 'Industrials', 'Information Technology', 'Information Technology', 'Information Technology', 'Industrials', 'Financials', 'Consumer Staples', 'Health Care', 'Health Care', 'Health Care', 'Consumer Staples', 'Energy', 'Utilities', 'Energy', 'Financials', 'Materials', 'Utilities', 'Financials', 'Consumer Staples', 'Financials', 'Real Estate', 'Financials', 'Utilities', 'Real Estate', 'Consumer Discretionary', 'Consumer Discretionary', 'Information Technology', 'Industrials', 'Information Technology', 'Health Care', 'Consumer Discretionary', 'Financials', 'Industrials', 'Real Estate', 'Real Estate', 'Health Care', 'Financials', 'Industrials', 'Health Care', 'Industrials', 'Industrials', 'Industrials', 'Industrials', 'Consumer Discretionary', 'Consumer Discretionary', 'Financials', 'Information Technology', 'Real Estate', 'Energy', 'Information Technology', 'Materials', 'Utilities', 'Information Technology', 'Materials', 'Real Estate', 'Information Technology', 'Real Estate', 'Industrials', 'Utilities', 'Industrials', 'Industrials', 'Consumer Discretionary', 'Financials', 'Health Care', 'Health Care', 'Financials', 'Financials', 'Information Technology', 'Consumer Staples', 'Communication Services', 'Financials', 'Communication Services', 'Consumer Discretionary', 'Consumer Discretionary', 'Information Technology', 'Energy', 'Health Care', 'Information Technology', 'Industrials', 'Health Care', 'Consumer Discretionary', 'Consumer Discretionary', 'Consumer Discretionary', 'Industrials', 'Industrials', 'Financials', 'Financials', 'Communication Services', 'Consumer Staples', 'Real Estate', 'Consumer Discretionary', 'Financials', 'Consumer Discretionary', 'Consumer Discretionary', 'Industrials', 'Industrials', 'Health Care', 'Industrials', 'Industrials', 'Industrials', 'Health Care', 'Financials', 'Consumer Discretionary', 'Energy', 'Health Care', 'Real Estate', 'Information Technology', 'Industrials', 'Communication Services', 'Health Care', 'Communication Services', 'Information Technology', 'Real Estate', 'Materials', 'Financials', 'Industrials', 'Consumer Staples', 'Consumer Staples', 'Communication Services', 'Industrials', 'Health Care', 'Utilities', 'Financials', 'Real Estate', 'Information Technology', 'Information Technology', 'Materials', 'Real Estate', 'Consumer Discretionary', 'Energy', 'Financials', 'Consumer Discretionary', 'Utilities', 'Information Technology', 'Information Technology', 'Industrials', 'Consumer Discretionary', 'Information Technology', 'Health Care', 'Financials', 'Health Care']\n"
     ]
    }
   ],
   "source": [
    "# url = \"https://en.wikipedia.org/wiki/Dow_Jones_Industrial_Average\"\n",
    "url = \"https://en.wikipedia.org/wiki/List_of_S%26P_500_companies\"\n",
    "resp = requests.get(url)\n",
    "# print(resp.text)\n",
    "\n",
    "soup = bs.BeautifulSoup(resp.text, 'lxml')\n",
    "table = soup.find(\"table\", {\"class\": \"wikitable sortable\"})\n",
    "\n",
    "symbols = []\n",
    "names = []\n",
    "industries = []\n",
    "\n",
    "for row in table.findAll('tr')[1:]:\n",
    "    symbols.append(row.findAll('td')[0].text.strip())\n",
    "    names.append(row.findAll('td')[1].text.strip())\n",
    "    industries.append(row.findAll('td')[3].text.strip())\n",
    "\n",
    "print(symbols)\n",
    "print(names)\n",
    "print(industries)"
   ]
  },
  {
   "cell_type": "code",
   "execution_count": 21,
   "metadata": {},
   "outputs": [
    {
     "data": {
      "text/html": [
       "<div>\n",
       "<style scoped>\n",
       "    .dataframe tbody tr th:only-of-type {\n",
       "        vertical-align: middle;\n",
       "    }\n",
       "\n",
       "    .dataframe tbody tr th {\n",
       "        vertical-align: top;\n",
       "    }\n",
       "\n",
       "    .dataframe thead th {\n",
       "        text-align: right;\n",
       "    }\n",
       "</style>\n",
       "<table border=\"1\" class=\"dataframe\">\n",
       "  <thead>\n",
       "    <tr style=\"text-align: right;\">\n",
       "      <th></th>\n",
       "      <th>symbol</th>\n",
       "      <th>name</th>\n",
       "      <th>industry</th>\n",
       "    </tr>\n",
       "  </thead>\n",
       "  <tbody>\n",
       "    <tr>\n",
       "      <td>0</td>\n",
       "      <td>MMM</td>\n",
       "      <td>3M Company</td>\n",
       "      <td>Industrials</td>\n",
       "    </tr>\n",
       "    <tr>\n",
       "      <td>1</td>\n",
       "      <td>ABT</td>\n",
       "      <td>Abbott Laboratories</td>\n",
       "      <td>Health Care</td>\n",
       "    </tr>\n",
       "    <tr>\n",
       "      <td>2</td>\n",
       "      <td>ABBV</td>\n",
       "      <td>AbbVie Inc.</td>\n",
       "      <td>Health Care</td>\n",
       "    </tr>\n",
       "    <tr>\n",
       "      <td>3</td>\n",
       "      <td>ABMD</td>\n",
       "      <td>ABIOMED Inc</td>\n",
       "      <td>Health Care</td>\n",
       "    </tr>\n",
       "    <tr>\n",
       "      <td>4</td>\n",
       "      <td>ACN</td>\n",
       "      <td>Accenture plc</td>\n",
       "      <td>Information Technology</td>\n",
       "    </tr>\n",
       "    <tr>\n",
       "      <td>...</td>\n",
       "      <td>...</td>\n",
       "      <td>...</td>\n",
       "      <td>...</td>\n",
       "    </tr>\n",
       "    <tr>\n",
       "      <td>500</td>\n",
       "      <td>YUM</td>\n",
       "      <td>Yum! Brands Inc</td>\n",
       "      <td>Consumer Discretionary</td>\n",
       "    </tr>\n",
       "    <tr>\n",
       "      <td>501</td>\n",
       "      <td>ZBRA</td>\n",
       "      <td>Zebra Technologies</td>\n",
       "      <td>Information Technology</td>\n",
       "    </tr>\n",
       "    <tr>\n",
       "      <td>502</td>\n",
       "      <td>ZBH</td>\n",
       "      <td>Zimmer Biomet Holdings</td>\n",
       "      <td>Health Care</td>\n",
       "    </tr>\n",
       "    <tr>\n",
       "      <td>503</td>\n",
       "      <td>ZION</td>\n",
       "      <td>Zions Bancorp</td>\n",
       "      <td>Financials</td>\n",
       "    </tr>\n",
       "    <tr>\n",
       "      <td>504</td>\n",
       "      <td>ZTS</td>\n",
       "      <td>Zoetis</td>\n",
       "      <td>Health Care</td>\n",
       "    </tr>\n",
       "  </tbody>\n",
       "</table>\n",
       "<p>505 rows × 3 columns</p>\n",
       "</div>"
      ],
      "text/plain": [
       "    symbol                    name                industry\n",
       "0      MMM              3M Company             Industrials\n",
       "1      ABT     Abbott Laboratories             Health Care\n",
       "2     ABBV             AbbVie Inc.             Health Care\n",
       "3     ABMD             ABIOMED Inc             Health Care\n",
       "4      ACN           Accenture plc  Information Technology\n",
       "..     ...                     ...                     ...\n",
       "500    YUM         Yum! Brands Inc  Consumer Discretionary\n",
       "501   ZBRA      Zebra Technologies  Information Technology\n",
       "502    ZBH  Zimmer Biomet Holdings             Health Care\n",
       "503   ZION           Zions Bancorp              Financials\n",
       "504    ZTS                  Zoetis             Health Care\n",
       "\n",
       "[505 rows x 3 columns]"
      ]
     },
     "execution_count": 21,
     "metadata": {},
     "output_type": "execute_result"
    }
   ],
   "source": [
    "df = pd.DataFrame(list(zip(symbols, names, industries)), columns = ['symbol', 'name', 'industry'])\n",
    "df"
   ]
  },
  {
   "cell_type": "code",
   "execution_count": null,
   "metadata": {},
   "outputs": [],
   "source": []
  }
 ],
 "metadata": {
  "kernelspec": {
   "display_name": "Python 3",
   "language": "python",
   "name": "python3"
  },
  "language_info": {
   "codemirror_mode": {
    "name": "ipython",
    "version": 3
   },
   "file_extension": ".py",
   "mimetype": "text/x-python",
   "name": "python",
   "nbconvert_exporter": "python",
   "pygments_lexer": "ipython3",
   "version": "3.7.4"
  }
 },
 "nbformat": 4,
 "nbformat_minor": 4
}
