{
 "cells": [
  {
   "cell_type": "code",
   "execution_count": 1,
   "metadata": {},
   "outputs": [],
   "source": [
    "from datetime import datetime\n",
    "from datetime import timedelta\n",
    "\n",
    "import numpy as np\n",
    "import pandas as pd\n",
    "import matplotlib.pyplot as plt\n",
    "\n",
    "import tensorflow as tf\n",
    "from tensorflow import keras"
   ]
  },
  {
   "cell_type": "code",
   "execution_count": 2,
   "metadata": {},
   "outputs": [
    {
     "data": {
      "text/html": [
       "<div>\n",
       "<style scoped>\n",
       "    .dataframe tbody tr th:only-of-type {\n",
       "        vertical-align: middle;\n",
       "    }\n",
       "\n",
       "    .dataframe tbody tr th {\n",
       "        vertical-align: top;\n",
       "    }\n",
       "\n",
       "    .dataframe thead th {\n",
       "        text-align: right;\n",
       "    }\n",
       "</style>\n",
       "<table border=\"1\" class=\"dataframe\">\n",
       "  <thead>\n",
       "    <tr style=\"text-align: right;\">\n",
       "      <th></th>\n",
       "      <th>Date</th>\n",
       "      <th>Open</th>\n",
       "      <th>High</th>\n",
       "      <th>Low</th>\n",
       "      <th>Close</th>\n",
       "      <th>Adj Close</th>\n",
       "      <th>Volume</th>\n",
       "    </tr>\n",
       "  </thead>\n",
       "  <tbody>\n",
       "    <tr>\n",
       "      <td>0</td>\n",
       "      <td>2004-08-19</td>\n",
       "      <td>49.813286</td>\n",
       "      <td>51.835709</td>\n",
       "      <td>47.800831</td>\n",
       "      <td>49.982655</td>\n",
       "      <td>49.982655</td>\n",
       "      <td>44871300</td>\n",
       "    </tr>\n",
       "    <tr>\n",
       "      <td>1</td>\n",
       "      <td>2004-08-20</td>\n",
       "      <td>50.316402</td>\n",
       "      <td>54.336334</td>\n",
       "      <td>50.062355</td>\n",
       "      <td>53.952770</td>\n",
       "      <td>53.952770</td>\n",
       "      <td>22942800</td>\n",
       "    </tr>\n",
       "    <tr>\n",
       "      <td>2</td>\n",
       "      <td>2004-08-23</td>\n",
       "      <td>55.168217</td>\n",
       "      <td>56.528118</td>\n",
       "      <td>54.321388</td>\n",
       "      <td>54.495735</td>\n",
       "      <td>54.495735</td>\n",
       "      <td>18342800</td>\n",
       "    </tr>\n",
       "    <tr>\n",
       "      <td>3</td>\n",
       "      <td>2004-08-24</td>\n",
       "      <td>55.412300</td>\n",
       "      <td>55.591629</td>\n",
       "      <td>51.591621</td>\n",
       "      <td>52.239193</td>\n",
       "      <td>52.239193</td>\n",
       "      <td>15319700</td>\n",
       "    </tr>\n",
       "    <tr>\n",
       "      <td>4</td>\n",
       "      <td>2004-08-25</td>\n",
       "      <td>52.284027</td>\n",
       "      <td>53.798351</td>\n",
       "      <td>51.746044</td>\n",
       "      <td>52.802086</td>\n",
       "      <td>52.802086</td>\n",
       "      <td>9232100</td>\n",
       "    </tr>\n",
       "    <tr>\n",
       "      <td>...</td>\n",
       "      <td>...</td>\n",
       "      <td>...</td>\n",
       "      <td>...</td>\n",
       "      <td>...</td>\n",
       "      <td>...</td>\n",
       "      <td>...</td>\n",
       "      <td>...</td>\n",
       "    </tr>\n",
       "    <tr>\n",
       "      <td>3926</td>\n",
       "      <td>2020-03-25</td>\n",
       "      <td>1126.469971</td>\n",
       "      <td>1148.900024</td>\n",
       "      <td>1086.010010</td>\n",
       "      <td>1102.489990</td>\n",
       "      <td>1102.489990</td>\n",
       "      <td>4081500</td>\n",
       "    </tr>\n",
       "    <tr>\n",
       "      <td>3927</td>\n",
       "      <td>2020-03-26</td>\n",
       "      <td>1111.800049</td>\n",
       "      <td>1169.969971</td>\n",
       "      <td>1093.530029</td>\n",
       "      <td>1161.750000</td>\n",
       "      <td>1161.750000</td>\n",
       "      <td>3571700</td>\n",
       "    </tr>\n",
       "    <tr>\n",
       "      <td>3928</td>\n",
       "      <td>2020-03-27</td>\n",
       "      <td>1125.670044</td>\n",
       "      <td>1150.670044</td>\n",
       "      <td>1105.910034</td>\n",
       "      <td>1110.709961</td>\n",
       "      <td>1110.709961</td>\n",
       "      <td>3208500</td>\n",
       "    </tr>\n",
       "    <tr>\n",
       "      <td>3929</td>\n",
       "      <td>2020-03-30</td>\n",
       "      <td>1125.040039</td>\n",
       "      <td>1151.630005</td>\n",
       "      <td>1096.479980</td>\n",
       "      <td>1146.819946</td>\n",
       "      <td>1146.819946</td>\n",
       "      <td>2574100</td>\n",
       "    </tr>\n",
       "    <tr>\n",
       "      <td>3930</td>\n",
       "      <td>2020-03-31</td>\n",
       "      <td>1147.300049</td>\n",
       "      <td>1175.310059</td>\n",
       "      <td>1138.140015</td>\n",
       "      <td>1162.810059</td>\n",
       "      <td>1162.810059</td>\n",
       "      <td>2486400</td>\n",
       "    </tr>\n",
       "  </tbody>\n",
       "</table>\n",
       "<p>3931 rows × 7 columns</p>\n",
       "</div>"
      ],
      "text/plain": [
       "            Date         Open         High          Low        Close  \\\n",
       "0     2004-08-19    49.813286    51.835709    47.800831    49.982655   \n",
       "1     2004-08-20    50.316402    54.336334    50.062355    53.952770   \n",
       "2     2004-08-23    55.168217    56.528118    54.321388    54.495735   \n",
       "3     2004-08-24    55.412300    55.591629    51.591621    52.239193   \n",
       "4     2004-08-25    52.284027    53.798351    51.746044    52.802086   \n",
       "...          ...          ...          ...          ...          ...   \n",
       "3926  2020-03-25  1126.469971  1148.900024  1086.010010  1102.489990   \n",
       "3927  2020-03-26  1111.800049  1169.969971  1093.530029  1161.750000   \n",
       "3928  2020-03-27  1125.670044  1150.670044  1105.910034  1110.709961   \n",
       "3929  2020-03-30  1125.040039  1151.630005  1096.479980  1146.819946   \n",
       "3930  2020-03-31  1147.300049  1175.310059  1138.140015  1162.810059   \n",
       "\n",
       "        Adj Close    Volume  \n",
       "0       49.982655  44871300  \n",
       "1       53.952770  22942800  \n",
       "2       54.495735  18342800  \n",
       "3       52.239193  15319700  \n",
       "4       52.802086   9232100  \n",
       "...           ...       ...  \n",
       "3926  1102.489990   4081500  \n",
       "3927  1161.750000   3571700  \n",
       "3928  1110.709961   3208500  \n",
       "3929  1146.819946   2574100  \n",
       "3930  1162.810059   2486400  \n",
       "\n",
       "[3931 rows x 7 columns]"
      ]
     },
     "execution_count": 2,
     "metadata": {},
     "output_type": "execute_result"
    }
   ],
   "source": [
    "#1. Data\n",
    "df = pd.read_csv(\"price_GOOG.CSV\")\n",
    "df"
   ]
  },
  {
   "cell_type": "code",
   "execution_count": 3,
   "metadata": {},
   "outputs": [],
   "source": [
    "# plt.plot(df[\"Date\"].values, df[\"Adj Close\"].values)  #pandas - loading data\n",
    "# plt.show()"
   ]
  },
  {
   "cell_type": "code",
   "execution_count": 4,
   "metadata": {},
   "outputs": [
    {
     "data": {
      "text/plain": [
       "array([[  49.982655],\n",
       "       [  53.95277 ],\n",
       "       [  54.495735],\n",
       "       ...,\n",
       "       [1110.709961],\n",
       "       [1146.819946],\n",
       "       [1162.810059]])"
      ]
     },
     "execution_count": 4,
     "metadata": {},
     "output_type": "execute_result"
    }
   ],
   "source": [
    "training_set = df.iloc[:, 5:6].values\n",
    "training_set\n"
   ]
  },
  {
   "cell_type": "code",
   "execution_count": 5,
   "metadata": {},
   "outputs": [
    {
     "name": "stdout",
     "output_type": "stream",
     "text": [
      "2\n",
      "(3931, 1)\n"
     ]
    }
   ],
   "source": [
    "print(training_set.ndim)\n",
    "print(training_set.shape)"
   ]
  },
  {
   "cell_type": "code",
   "execution_count": 6,
   "metadata": {},
   "outputs": [
    {
     "name": "stdout",
     "output_type": "stream",
     "text": [
      "[[1.11307572e-04]\n",
      " [2.79949983e-03]\n",
      " [3.16714518e-03]\n",
      " ...\n",
      " [7.18337085e-01]\n",
      " [7.42787405e-01]\n",
      " [7.53614421e-01]]\n"
     ]
    }
   ],
   "source": [
    "from sklearn.preprocessing import MinMaxScaler\n",
    "sc = MinMaxScaler(feature_range=(0,1))\n",
    "training_set_scaled = sc.fit_transform(training_set)\n",
    "print(training_set_scaled)"
   ]
  },
  {
   "cell_type": "code",
   "execution_count": 7,
   "metadata": {},
   "outputs": [
    {
     "name": "stdout",
     "output_type": "stream",
     "text": [
      "[[1.11307572e-04 2.79949983e-03 3.16714518e-03 ... 2.31683982e-02\n",
      "  2.28850736e-02 2.79983798e-02]\n",
      " [2.79949983e-03 3.16714518e-03 1.63922502e-03 ... 2.28850736e-02\n",
      "  2.79983798e-02 2.76543452e-02]\n",
      " [3.16714518e-03 1.63922502e-03 2.02036376e-03 ... 2.79983798e-02\n",
      "  2.76543452e-02 2.86223649e-02]\n",
      " ...\n",
      " [8.71573188e-01 8.92123365e-01 8.87580004e-01 ... 7.34418374e-01\n",
      "  7.12771286e-01 7.52896648e-01]\n",
      " [8.92123365e-01 8.87580004e-01 9.10296891e-01 ... 7.12771286e-01\n",
      "  7.52896648e-01 7.18337085e-01]\n",
      " [8.87580004e-01 9.10296891e-01 9.09707812e-01 ... 7.52896648e-01\n",
      "  7.18337085e-01 7.42787405e-01]]\n",
      "(3871, 60)\n",
      "2\n",
      "[0.02765435 0.02862236 0.02446359 ... 0.71833709 0.74278741 0.75361442]\n",
      "(3871,)\n"
     ]
    }
   ],
   "source": [
    "X_train = [] #past 60'd price\n",
    "Y_train = [] #today's price\n",
    "\n",
    "for i in range(60, training_set_scaled.shape[0]):\n",
    "    X_train.append(training_set_scaled[i-60:i, 0])\n",
    "    Y_train.append(training_set_scaled[i,0])\n",
    "    \n",
    "X_train = np.array(X_train)\n",
    "Y_train = np.array(Y_train)\n",
    "\n",
    "print(X_train)\n",
    "print(X_train.shape)\n",
    "print(X_train.ndim)\n",
    "print(Y_train)\n",
    "print(Y_train.shape)"
   ]
  },
  {
   "cell_type": "code",
   "execution_count": 12,
   "metadata": {},
   "outputs": [
    {
     "name": "stdout",
     "output_type": "stream",
     "text": [
      "[[[1.11307572e-04]\n",
      "  [2.79949983e-03]\n",
      "  [3.16714518e-03]\n",
      "  ...\n",
      "  [2.31683982e-02]\n",
      "  [2.28850736e-02]\n",
      "  [2.79983798e-02]]\n",
      "\n",
      " [[2.79949983e-03]\n",
      "  [3.16714518e-03]\n",
      "  [1.63922502e-03]\n",
      "  ...\n",
      "  [2.28850736e-02]\n",
      "  [2.79983798e-02]\n",
      "  [2.76543452e-02]]\n",
      "\n",
      " [[3.16714518e-03]\n",
      "  [1.63922502e-03]\n",
      "  [2.02036376e-03]\n",
      "  ...\n",
      "  [2.79983798e-02]\n",
      "  [2.76543452e-02]\n",
      "  [2.86223649e-02]]\n",
      "\n",
      " ...\n",
      "\n",
      " [[8.71573188e-01]\n",
      "  [8.92123365e-01]\n",
      "  [8.87580004e-01]\n",
      "  ...\n",
      "  [7.34418374e-01]\n",
      "  [7.12771286e-01]\n",
      "  [7.52896648e-01]]\n",
      "\n",
      " [[8.92123365e-01]\n",
      "  [8.87580004e-01]\n",
      "  [9.10296891e-01]\n",
      "  ...\n",
      "  [7.12771286e-01]\n",
      "  [7.52896648e-01]\n",
      "  [7.18337085e-01]]\n",
      "\n",
      " [[8.87580004e-01]\n",
      "  [9.10296891e-01]\n",
      "  [9.09707812e-01]\n",
      "  ...\n",
      "  [7.52896648e-01]\n",
      "  [7.18337085e-01]\n",
      "  [7.42787405e-01]]]\n",
      "3\n",
      "(3871, 60, 1)\n"
     ]
    }
   ],
   "source": [
    "X_train = np.reshape(X_train, (X_train.shape[0], X_train.shape[1] ,1))\n",
    "print(X_train)\n",
    "print(X_train.ndim)\n",
    "print(X_train.shape)"
   ]
  },
  {
   "cell_type": "code",
   "execution_count": 13,
   "metadata": {},
   "outputs": [],
   "source": [
    "# 2.Model & Traning"
   ]
  },
  {
   "cell_type": "code",
   "execution_count": 14,
   "metadata": {},
   "outputs": [
    {
     "name": "stdout",
     "output_type": "stream",
     "text": [
      "Model: \"sequential_1\"\n",
      "_________________________________________________________________\n",
      "Layer (type)                 Output Shape              Param #   \n",
      "=================================================================\n",
      "lstm_4 (LSTM)                (None, 60, 50)            10400     \n",
      "_________________________________________________________________\n",
      "dropout_4 (Dropout)          (None, 60, 50)            0         \n",
      "_________________________________________________________________\n",
      "lstm_5 (LSTM)                (None, 60, 50)            20200     \n",
      "_________________________________________________________________\n",
      "dropout_5 (Dropout)          (None, 60, 50)            0         \n",
      "_________________________________________________________________\n",
      "lstm_6 (LSTM)                (None, 60, 50)            20200     \n",
      "_________________________________________________________________\n",
      "dropout_6 (Dropout)          (None, 60, 50)            0         \n",
      "_________________________________________________________________\n",
      "lstm_7 (LSTM)                (None, 50)                20200     \n",
      "_________________________________________________________________\n",
      "dropout_7 (Dropout)          (None, 50)                0         \n",
      "_________________________________________________________________\n",
      "dense_1 (Dense)              (None, 1)                 51        \n",
      "=================================================================\n",
      "Total params: 71,051\n",
      "Trainable params: 71,051\n",
      "Non-trainable params: 0\n",
      "_________________________________________________________________\n"
     ]
    }
   ],
   "source": [
    "model = keras.Sequential([\n",
    "    keras.layers.LSTM(units=50, return_sequences=True, input_shape=(X_train.shape[1],1)),\n",
    "    keras.layers.Dropout(0.2),\n",
    "    keras.layers.LSTM(units=50, return_sequences=True),\n",
    "    keras.layers.Dropout(0.2),\n",
    "    keras.layers.LSTM(units=50, return_sequences=True),\n",
    "    keras.layers.Dropout(0.2),\n",
    "    keras.layers.LSTM(units=50),\n",
    "    keras.layers.Dropout(0.2),\n",
    "    keras.layers.Dense(units=1)\n",
    "])\n",
    "\n",
    "model.compile(\n",
    "    optimizer = 'adam',\n",
    "    loss = 'mse'  \n",
    ")\n",
    "\n",
    "model.summary()"
   ]
  },
  {
   "cell_type": "code",
   "execution_count": 15,
   "metadata": {},
   "outputs": [
    {
     "name": "stdout",
     "output_type": "stream",
     "text": [
      "Train on 3871 samples\n",
      "Epoch 1/10\n",
      "3871/3871 [==============================] - 19s 5ms/sample - loss: 0.0072\n",
      "Epoch 2/10\n",
      "3871/3871 [==============================] - 16s 4ms/sample - loss: 0.0022\n",
      "Epoch 3/10\n",
      "3871/3871 [==============================] - 16s 4ms/sample - loss: 0.0018\n",
      "Epoch 4/10\n",
      "3871/3871 [==============================] - 16s 4ms/sample - loss: 0.0017\n",
      "Epoch 5/10\n",
      "3871/3871 [==============================] - 16s 4ms/sample - loss: 0.0015\n",
      "Epoch 6/10\n",
      "3871/3871 [==============================] - 15s 4ms/sample - loss: 0.0015\n",
      "Epoch 7/10\n",
      "3871/3871 [==============================] - 15s 4ms/sample - loss: 0.0014\n",
      "Epoch 8/10\n",
      "3871/3871 [==============================] - 14s 4ms/sample - loss: 0.0013\n",
      "Epoch 9/10\n",
      "3871/3871 [==============================] - 14s 4ms/sample - loss: 0.0014\n",
      "Epoch 10/10\n",
      "3871/3871 [==============================] - 14s 4ms/sample - loss: 0.0012\n"
     ]
    },
    {
     "data": {
      "text/plain": [
       "<tensorflow.python.keras.callbacks.History at 0x14174f190>"
      ]
     },
     "execution_count": 15,
     "metadata": {},
     "output_type": "execute_result"
    }
   ],
   "source": [
    "# model.fit(X_train, Y_train, epochs = 100)\n",
    "model.fit(X_train, Y_train, epochs = 10)"
   ]
  },
  {
   "cell_type": "code",
   "execution_count": null,
   "metadata": {},
   "outputs": [],
   "source": [
    "#3.preict Data\n",
    "print(df.head())\n",
    "real_stock_data = df.iloc[-60:, 5:6].value\n",
    "print(real_stock_data)"
   ]
  },
  {
   "cell_type": "code",
   "execution_count": null,
   "metadata": {},
   "outputs": [],
   "source": [
    "X_test = []\n",
    "for i in range(0, 60):\n",
    "    val = df.iloc[-60-60+i:-60+i, 5:6].values\n",
    "    val = sc.transform(val)\n",
    "    X_test.append(val)\n",
    "    \n",
    "X_test = np.array(X_test)\n",
    "X_test = X_test.reshape(X_test.shape[0], X_test.shape[1],1)\n",
    "\n",
    "print(\"X_test.shape\")\n",
    "print(X_test.shape)\n",
    "print(X_test[:1])"
   ]
  },
  {
   "cell_type": "code",
   "execution_count": null,
   "metadata": {},
   "outputs": [],
   "source": [
    "predicted = model.predict(X_test)\n",
    "predicted = sc.inverse_transform(predicted)"
   ]
  },
  {
   "cell_type": "code",
   "execution_count": null,
   "metadata": {},
   "outputs": [],
   "source": [
    "plt.plot(real_stock_data, color='red', label = 'real_stock_data')\n",
    "plt.plot(predicted, color=\"blue\", label = \"Predicted Stock price\")\n",
    "plt.xlabel(\"date\")\n"
   ]
  }
 ],
 "metadata": {
  "kernelspec": {
   "display_name": "Python 3",
   "language": "python",
   "name": "python3"
  },
  "language_info": {
   "codemirror_mode": {
    "name": "ipython",
    "version": 3
   },
   "file_extension": ".py",
   "mimetype": "text/x-python",
   "name": "python",
   "nbconvert_exporter": "python",
   "pygments_lexer": "ipython3",
   "version": "3.7.4"
  }
 },
 "nbformat": 4,
 "nbformat_minor": 4
}
