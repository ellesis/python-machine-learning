{
 "cells": [
  {
   "cell_type": "code",
   "execution_count": 7,
   "metadata": {},
   "outputs": [],
   "source": [
    "import pandas as pd\n",
    "#Import scikit-learn metrics module for accuracy calculation\n",
    "\n",
    "from sklearn.model_selection import train_test_split\n",
    "from sklearn import metrics\n",
    "from sklearn.ensemble import RandomForestClassifier"
   ]
  },
  {
   "cell_type": "code",
   "execution_count": 8,
   "metadata": {},
   "outputs": [],
   "source": [
    "def prepare_testing_set(df, percent_testing):\n",
    "    X = df.drop(\"@@label\", axis=1)\n",
    "    Y = df[\"@@label\"]\n",
    "    \n",
    "    return train_test_split(X, Y, test_size = percent_testing)\n",
    "    "
   ]
  },
  {
   "cell_type": "code",
   "execution_count": 12,
   "metadata": {},
   "outputs": [
    {
     "name": "stdout",
     "output_type": "stream",
     "text": [
      "     Unnamed: 0  0000  00087  001  002  0029  003  0038  008   01  ...  zombi  \\\n",
      "30           30   0.0    0.0  0.0  0.0   0.0  0.0   0.0  0.0  0.0  ...    0.0   \n",
      "142         142   0.0    0.0  0.0  0.0   0.0  0.0   0.0  0.0  0.0  ...    0.0   \n",
      "155         155   0.0    0.0  0.0  0.0   0.0  0.0   0.0  0.0  0.0  ...    0.0   \n",
      "\n",
      "         zone  zoom  zoomrel  zscore   zt  zuckerbag  zuckerbegl  zuckerberg  \\\n",
      "30   0.021811   0.0      0.0     0.0  0.0        0.0         0.0         0.0   \n",
      "142  0.000000   0.0      0.0     0.0  0.0        0.0         0.0         0.0   \n",
      "155  0.000000   0.0      0.0     0.0  0.0        0.0         0.0         0.0   \n",
      "\n",
      "     zweli  \n",
      "30     0.0  \n",
      "142    0.0  \n",
      "155    0.0  \n",
      "\n",
      "[3 rows x 9775 columns]\n",
      "[0.0, 1.0, 0.0, 1.0, 1.0, 1.0, 0.0, 1.0, 0.0, 0.0, 0.0, 0.0, 0.0, 1.0, 0.0, 1.0, 1.0, 0.0, 0.0, 0.0, 1.0, 0.0, 0.0, 1.0, 0.0, 1.0, 1.0, 1.0, 1.0, 1.0, 0.0, 1.0, 0.0, 1.0, 0.0, 1.0, 1.0, 1.0, 0.0, 1.0, 1.0, 1.0, 1.0, 0.0, 0.0]\n",
      "[0.0, 1.0, 0.0, 1.0, 0.0, 0.0, 0.0, 0.0, 0.0, 1.0, 0.0, 1.0, 1.0, 1.0, 1.0, 1.0, 1.0, 0.0, 1.0, 1.0, 0.0, 0.0, 0.0, 1.0, 0.0, 0.0, 0.0, 1.0, 1.0, 1.0, 0.0, 1.0, 0.0, 1.0, 0.0, 1.0, 1.0, 1.0, 0.0, 1.0, 1.0, 0.0, 1.0, 0.0, 1.0]\n",
      "Accuracy:  0.6888888888888889\n"
     ]
    }
   ],
   "source": [
    "def main():\n",
    "    df = pd.read_csv(\"AMZN_STEP2.csv\")\n",
    "    df.drop(columns = [\"@@date\", \"@@url\"], inplace=True)\n",
    "    \n",
    "    X_train, X_test, y_train, y_test = prepare_testing_set(df, 0.2)\n",
    "    \n",
    "    model = RandomForestClassifier(n_estimators=4000, max_depth=70).fit(X_train, y_train)\n",
    "    y_pred = model.predict(X_test)\n",
    "    \n",
    "    print(X_test[:3])\n",
    "    print(list(y_test))\n",
    "    print(list(y_pred))\n",
    "    \n",
    "    print(\"Accuracy: \", metrics.accuracy_score(y_test, y_pred))\n",
    "    \n",
    "main()"
   ]
  },
  {
   "cell_type": "code",
   "execution_count": null,
   "metadata": {},
   "outputs": [],
   "source": []
  }
 ],
 "metadata": {
  "kernelspec": {
   "display_name": "Python 3",
   "language": "python",
   "name": "python3"
  },
  "language_info": {
   "codemirror_mode": {
    "name": "ipython",
    "version": 3
   },
   "file_extension": ".py",
   "mimetype": "text/x-python",
   "name": "python",
   "nbconvert_exporter": "python",
   "pygments_lexer": "ipython3",
   "version": "3.7.4"
  }
 },
 "nbformat": 4,
 "nbformat_minor": 4
}
